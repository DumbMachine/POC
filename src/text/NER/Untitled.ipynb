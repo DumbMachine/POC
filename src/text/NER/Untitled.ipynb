{
 "cells": [
  {
   "cell_type": "code",
   "execution_count": 1,
   "metadata": {},
   "outputs": [],
   "source": [
    "from sklearn.feature_extraction.text import CountVectorizer,TfidfVectorizer\n",
    "from sklearn.feature_extraction.text import TfidfTransformer\n",
    "\n",
    "from utils import *\n"
   ]
  },
  {
   "cell_type": "code",
   "execution_count": 8,
   "metadata": {},
   "outputs": [],
   "source": [
    "dataset = load_conll_ner_data()\n",
    "NER_TYPES = {\n",
    "    'B-MISC': [],\n",
    "    'B-PER': [],\n",
    "    'B-ORG': [],\n",
    "    'B-LOC': [],\n",
    "    'I-LOC': [],\n",
    "    'I-PER': [],\n",
    "    'I-MISC': [],\n",
    "    'I-ORG': [],\n",
    "    'O': [],\n",
    "}"
   ]
  },
  {
   "cell_type": "code",
   "execution_count": 10,
   "metadata": {},
   "outputs": [
    {
     "data": {
      "text/plain": [
       "(6962, 10)"
      ]
     },
     "execution_count": 10,
     "metadata": {},
     "output_type": "execute_result"
    }
   ],
   "source": [
    "dataset.shape"
   ]
  },
  {
   "cell_type": "markdown",
   "metadata": {},
   "source": [
    "## Creating a small sample of annotated data"
   ]
  },
  {
   "cell_type": "code",
   "execution_count": 3,
   "metadata": {},
   "outputs": [
    {
     "name": "stderr",
     "output_type": "stream",
     "text": [
      "/home/needshelp/anaconda3/lib/python3.7/site-packages/ipykernel_launcher.py:19: UserWarning: Boolean Series key will be reindexed to match DataFrame index.\n"
     ]
    }
   ],
   "source": [
    "\n",
    "SAMPLE_DATA = .30\n",
    "small_df = dataset.iloc[:int(len(dataset)*SAMPLE_DATA)]\n",
    "\n",
    "\n",
    "for ner in NER_TYPES.keys():\n",
    "    temp_data = []\n",
    "    for value in small_df[ner]:\n",
    "        if isinstance(value, list):\n",
    "            for smaller_value in value:\n",
    "                temp_data.append(smaller_value)\n",
    "    # Will make the dict for that NER data now\n",
    "    docs = [clean_text_kaggle(text) for text in temp_data]\n",
    "    # string_list = [\" \".join(clean_text(text)) for text in temp_data]\n",
    "    cv=CountVectorizer()\n",
    "    word_count_vector=cv.fit_transform(docs)\n",
    "    tfidf_transformer=TfidfTransformer(smooth_idf=True,use_idf=True)\n",
    "    tfidf_transformer.fit(word_count_vector)\n",
    "    df_idf = pd.DataFrame(tfidf_transformer.idf_, index=cv.get_feature_names(),columns=[\"idf_weights\"])\n",
    "    NER_TYPES[ner].extend(df_idf.sort_values(by=[\"idf_weights\"],ascending=False)[df_idf.idf_weights > 0].index.values.tolist())\n"
   ]
  },
  {
   "cell_type": "markdown",
   "metadata": {},
   "source": [
    "## Testing with UNION"
   ]
  },
  {
   "cell_type": "code",
   "execution_count": 5,
   "metadata": {},
   "outputs": [
    {
     "name": "stdout",
     "output_type": "stream",
     "text": [
      "47311\n"
     ]
    }
   ],
   "source": [
    "#  Testing with the above sample\n",
    "history = []\n",
    "test = dataset.iloc[int(len(dataset)*SAMPLE_DATA):]\n",
    "total_help = 0\n",
    "total_matches = []\n",
    "for candidate in test.values:\n",
    "    local_help = 0\n",
    "    matches = []\n",
    "    tokens = candidate[0].split()\n",
    "    for ner in NER_TYPES.keys():\n",
    "        intersection = set(tokens).intersection(NER_TYPES[ner])\n",
    "        if intersection:\n",
    "            local_help += len(intersection)\n",
    "            matches.append([ner, intersection])\n",
    "    if local_help:\n",
    "        total_help+=local_help\n",
    "        total_matches+=matches\n",
    "\n",
    "print(total_help)"
   ]
  },
  {
   "cell_type": "markdown",
   "metadata": {},
   "source": [
    "## Testing with many different sample size"
   ]
  },
  {
   "cell_type": "code",
   "execution_count": 17,
   "metadata": {},
   "outputs": [
    {
     "name": "stdout",
     "output_type": "stream",
     "text": [
      "(69, 10)\n",
      "(6893, 10)\n"
     ]
    },
    {
     "name": "stderr",
     "output_type": "stream",
     "text": [
      "/home/needshelp/anaconda3/lib/python3.7/site-packages/ipykernel_launcher.py:18: UserWarning: Boolean Series key will be reindexed to match DataFrame index.\n"
     ]
    },
    {
     "name": "stdout",
     "output_type": "stream",
     "text": [
      "0.01 76830 6527\n",
      "---------------------------\n",
      "6893 6527 0.9469026548672567\n",
      "---------------------------------------------------------------------------------\n",
      "(278, 10)\n",
      "(6684, 10)\n",
      "0.04 74726 6328\n",
      "---------------------------\n",
      "6684 6328 0.9467384799521245\n",
      "---------------------------------------------------------------------------------\n",
      "(556, 10)\n",
      "(6406, 10)\n",
      "0.08 71766 6068\n",
      "---------------------------\n",
      "6406 6068 0.947236965344989\n",
      "---------------------------------------------------------------------------------\n",
      "(696, 10)\n",
      "(6266, 10)\n",
      "0.1 70205 5929\n",
      "---------------------------\n",
      "6266 5929 0.9462176827322055\n",
      "---------------------------------------------------------------------------------\n",
      "(1392, 10)\n",
      "(5570, 10)\n",
      "0.2 62180 5271\n",
      "---------------------------\n",
      "5570 5271 0.9463195691202873\n",
      "---------------------------------------------------------------------------------\n",
      "(2088, 10)\n",
      "(4874, 10)\n",
      "0.3 54225 4629\n",
      "---------------------------\n",
      "4874 4629 0.9497332786212557\n",
      "---------------------------------------------------------------------------------\n",
      "(2784, 10)\n",
      "(4178, 10)\n",
      "0.4 45443 3971\n",
      "---------------------------\n",
      "4178 3971 0.9504547630445189\n",
      "---------------------------------------------------------------------------------\n",
      "(3481, 10)\n",
      "(3481, 10)\n",
      "0.5 37475 3309\n",
      "---------------------------\n",
      "3481 3309 0.9505889112324045\n",
      "---------------------------------------------------------------------------------\n"
     ]
    }
   ],
   "source": [
    "for SAMPLE_SIZE in [.01, .04, .08, .1, .2, .3, .4, .5][:]:\n",
    "    small_df = dataset.iloc[:int(len(dataset)*SAMPLE_SIZE)]\n",
    "    print(small_df.shape)\n",
    "    for ner in NER_TYPES.keys():\n",
    "        temp_data = []\n",
    "        for value in small_df[ner]:\n",
    "            if isinstance(value, list):\n",
    "                for smaller_value in value:\n",
    "                    temp_data.append(smaller_value)\n",
    "        # Will make the dict for that NER data now\n",
    "        docs = [clean_text_kaggle(text) for text in temp_data]\n",
    "        # string_list = [\" \".join(clean_text(text)) for text in temp_data]\n",
    "        cv=CountVectorizer()\n",
    "        word_count_vector=cv.fit_transform(docs)\n",
    "        tfidf_transformer=TfidfTransformer(smooth_idf=True,use_idf=True)\n",
    "        tfidf_transformer.fit(word_count_vector)\n",
    "        df_idf = pd.DataFrame(tfidf_transformer.idf_, index=cv.get_feature_names(),columns=[\"idf_weights\"])\n",
    "        NER_TYPES[ner].extend(df_idf.sort_values(by=[\"idf_weights\"],ascending=False)[df_idf.idf_weights > 0].index.values.tolist())\n",
    "\n",
    "    #  Testing with the above sample\n",
    "    history = []\n",
    "    test = dataset.iloc[int(len(dataset)*SAMPLE_SIZE):]\n",
    "    print(test.shape)\n",
    "    total_help = 0\n",
    "    total_matches = []\n",
    "    candidate_help = 0\n",
    "    for candidate in test.values:\n",
    "        local_help = 0\n",
    "        matches = []\n",
    "        tokens = candidate[0].split()\n",
    "        for ner in NER_TYPES.keys():\n",
    "            intersection = set(tokens).intersection(NER_TYPES[ner])\n",
    "            if intersection:\n",
    "                local_help += len(intersection)\n",
    "                matches.append([ner, intersection])\n",
    "        if local_help:\n",
    "            candidate_help +=1\n",
    "            total_help+=local_help\n",
    "            total_matches+=matches\n",
    "    print(SAMPLE_SIZE, total_help, candidate_help)\n",
    "    print(\"---------------------------\")\n",
    "    print(test.shape[0], candidate_help, candidate_help/test.shape[0])\n",
    "    print(\"---------------------------------------------------------------------------------\")    "
   ]
  },
  {
   "cell_type": "markdown",
   "metadata": {},
   "source": [
    "## Plotting the values"
   ]
  },
  {
   "cell_type": "code",
   "execution_count": 33,
   "metadata": {},
   "outputs": [
    {
     "data": {
      "text/plain": [
       "[<matplotlib.lines.Line2D at 0x7f7690207990>]"
      ]
     },
     "execution_count": 33,
     "metadata": {},
     "output_type": "execute_result"
    },
    {
     "data": {
      "image/png": "[encoded data removed]",
      "text/plain": [
       "<Figure size 432x288 with 1 Axes>"
      ]
     },
     "metadata": {
      "needs_background": "light"
     },
     "output_type": "display_data"
    }
   ],
   "source": [
    "plt.title(\"Plotting the Union percent\")\n",
    "plt.xlabel(\"Union of total across each NER entity type\")\n",
    "plt.ylabel(\"Iteration\")\n",
    "plt.plot(\n",
    "    [\n",
    "    0.9469026548672567,\n",
    "    0.9467384799521245,\n",
    "    0.947236965344989,\n",
    "    0.9462176827322055,\n",
    "    0.9463195691202873,\n",
    "    0.9497332786212557,\n",
    "    0.9504547630445189,\n",
    "    0.9505889112324045        \n",
    "    ], marker=\"x\"\n",
    ")"
   ]
  },
  {
   "cell_type": "code",
   "execution_count": 28,
   "metadata": {},
   "outputs": [
    {
     "data": {
      "text/plain": [
       "[0.08, 0.09, 0.1]"
      ]
     },
     "execution_count": 28,
     "metadata": {},
     "output_type": "execute_result"
    }
   ],
   "source": [
    "[i*0.01 for i in range(8,11)]"
   ]
  },
  {
   "cell_type": "code",
   "execution_count": 12,
   "metadata": {},
   "outputs": [
    {
     "data": {
      "text/html": [
       "<div>\n",
       "<style scoped>\n",
       "    .dataframe tbody tr th:only-of-type {\n",
       "        vertical-align: middle;\n",
       "    }\n",
       "\n",
       "    .dataframe tbody tr th {\n",
       "        vertical-align: top;\n",
       "    }\n",
       "\n",
       "    .dataframe thead th {\n",
       "        text-align: right;\n",
       "    }\n",
       "</style>\n",
       "<table border=\"1\" class=\"dataframe\">\n",
       "  <thead>\n",
       "    <tr style=\"text-align: right;\">\n",
       "      <th></th>\n",
       "      <th>sentence</th>\n",
       "      <th>O</th>\n",
       "      <th>B-PER</th>\n",
       "      <th>B-ORG</th>\n",
       "      <th>B-MISC</th>\n",
       "      <th>B-LOC</th>\n",
       "      <th>I-LOC</th>\n",
       "      <th>I-PER</th>\n",
       "      <th>I-MISC</th>\n",
       "      <th>I-ORG</th>\n",
       "    </tr>\n",
       "  </thead>\n",
       "  <tbody>\n",
       "    <tr>\n",
       "      <td>1392</td>\n",
       "      <td>He said a male teenager sleeping upstairs rep...</td>\n",
       "      <td>[He, said, a, male, teenager, sleeping, upstai...</td>\n",
       "      <td>[White]</td>\n",
       "      <td>[]</td>\n",
       "      <td>[]</td>\n",
       "      <td>[]</td>\n",
       "      <td>[]</td>\n",
       "      <td>[]</td>\n",
       "      <td>[]</td>\n",
       "      <td>[]</td>\n",
       "    </tr>\n",
       "    <tr>\n",
       "      <td>1393</td>\n",
       "      <td>The other teenagers also confronted the assai...</td>\n",
       "      <td>[The, other, teenagers, also, confronted, the,...</td>\n",
       "      <td>[]</td>\n",
       "      <td>[]</td>\n",
       "      <td>[]</td>\n",
       "      <td>[]</td>\n",
       "      <td>[]</td>\n",
       "      <td>[]</td>\n",
       "      <td>[]</td>\n",
       "      <td>[]</td>\n",
       "    </tr>\n",
       "    <tr>\n",
       "      <td>1394</td>\n",
       "      <td>\" At least two of them were sexually molested...</td>\n",
       "      <td>[\", At, least, two, of, them, were, sexually, ...</td>\n",
       "      <td>[Black]</td>\n",
       "      <td>[]</td>\n",
       "      <td>[]</td>\n",
       "      <td>[]</td>\n",
       "      <td>[]</td>\n",
       "      <td>[]</td>\n",
       "      <td>[]</td>\n",
       "      <td>[]</td>\n",
       "    </tr>\n",
       "    <tr>\n",
       "      <td>1395</td>\n",
       "      <td>He said all of the wounded teenagers were tak...</td>\n",
       "      <td>[He, said, all, of, the, wounded, teenagers, w...</td>\n",
       "      <td>[]</td>\n",
       "      <td>[]</td>\n",
       "      <td>[]</td>\n",
       "      <td>[]</td>\n",
       "      <td>[]</td>\n",
       "      <td>[]</td>\n",
       "      <td>[]</td>\n",
       "      <td>[]</td>\n",
       "    </tr>\n",
       "    <tr>\n",
       "      <td>1396</td>\n",
       "      <td>Police said the girl who died was identified ...</td>\n",
       "      <td>[Police, said, the, girl, who, died, was, iden...</td>\n",
       "      <td>[Michelle]</td>\n",
       "      <td>[]</td>\n",
       "      <td>[]</td>\n",
       "      <td>[]</td>\n",
       "      <td>[]</td>\n",
       "      <td>[Harper]</td>\n",
       "      <td>[]</td>\n",
       "      <td>[]</td>\n",
       "    </tr>\n",
       "    <tr>\n",
       "      <td>...</td>\n",
       "      <td>...</td>\n",
       "      <td>...</td>\n",
       "      <td>...</td>\n",
       "      <td>...</td>\n",
       "      <td>...</td>\n",
       "      <td>...</td>\n",
       "      <td>...</td>\n",
       "      <td>...</td>\n",
       "      <td>...</td>\n",
       "      <td>...</td>\n",
       "    </tr>\n",
       "    <tr>\n",
       "      <td>6957</td>\n",
       "      <td>That , and the fact he is only a few hours dr...</td>\n",
       "      <td>[That, ,, and, the, fact, he, is, only, a, few...</td>\n",
       "      <td>[]</td>\n",
       "      <td>[Aberdeen]</td>\n",
       "      <td>[GRAND]</td>\n",
       "      <td>[SAN]</td>\n",
       "      <td>[MARINO]</td>\n",
       "      <td>[]</td>\n",
       "      <td>[PRIX]</td>\n",
       "      <td>[]</td>\n",
       "    </tr>\n",
       "    <tr>\n",
       "      <td>6958</td>\n",
       "      <td>IMOLA , Italy 1996-08-30 Practice times set o...</td>\n",
       "      <td>[,, 1996-08-30, Practice, times, set, on, Frid...</td>\n",
       "      <td>[Michael, Jean-Michel, Norifumi, Luca, Alex, S...</td>\n",
       "      <td>[Honda, Yamaha, Yamaha, Honda, Honda, Suzuki, ...</td>\n",
       "      <td>[Grand, BRITISH]</td>\n",
       "      <td>[IMOLA, Italy, San, Australia, France, Japan, ...</td>\n",
       "      <td>[Marino, States]</td>\n",
       "      <td>[Doohan, Bayle, Abe, Cadalora, Criville, Russe...</td>\n",
       "      <td>[Prix, MASTERS]</td>\n",
       "      <td>[]</td>\n",
       "    </tr>\n",
       "    <tr>\n",
       "      <td>6959</td>\n",
       "      <td>NORTHAMPTON , England 1996-08-30 Leading scor...</td>\n",
       "      <td>[,, 1996-08-30, Leading, scores, after, the, t...</td>\n",
       "      <td>[Robert, Pedro, Miguel, Costantino, Antoine, I...</td>\n",
       "      <td>[]</td>\n",
       "      <td>[British]</td>\n",
       "      <td>[NORTHAMPTON, England, Australia, Spain, Spain...</td>\n",
       "      <td>[]</td>\n",
       "      <td>[Allenby, Linhart, Angel, Martin, Rocca, Lebou...</td>\n",
       "      <td>[Masters]</td>\n",
       "      <td>[]</td>\n",
       "    </tr>\n",
       "    <tr>\n",
       "      <td>6960</td>\n",
       "      <td>-DOCSTART- SOCCER - ENGLISH SOCCER RESULTS</td>\n",
       "      <td>[-DOCSTART-, SOCCER, -, SOCCER, RESULTS]</td>\n",
       "      <td>[]</td>\n",
       "      <td>[]</td>\n",
       "      <td>[ENGLISH]</td>\n",
       "      <td>[]</td>\n",
       "      <td>[]</td>\n",
       "      <td>[]</td>\n",
       "      <td>[]</td>\n",
       "      <td>[]</td>\n",
       "    </tr>\n",
       "    <tr>\n",
       "      <td>6961</td>\n",
       "      <td>LONDON 1996-08-30 Results of English league m...</td>\n",
       "      <td>[1996-08-30, Results, of, league, matches, on,...</td>\n",
       "      <td>[]</td>\n",
       "      <td>[Plymouth, Preston, Swansea, Lincoln]</td>\n",
       "      <td>[English]</td>\n",
       "      <td>[LONDON]</td>\n",
       "      <td>[]</td>\n",
       "      <td>[]</td>\n",
       "      <td>[]</td>\n",
       "      <td>[]</td>\n",
       "    </tr>\n",
       "  </tbody>\n",
       "</table>\n",
       "<p>5570 rows × 10 columns</p>\n",
       "</div>"
      ],
      "text/plain": [
       "                                               sentence  \\\n",
       "1392   He said a male teenager sleeping upstairs rep...   \n",
       "1393   The other teenagers also confronted the assai...   \n",
       "1394   \" At least two of them were sexually molested...   \n",
       "1395   He said all of the wounded teenagers were tak...   \n",
       "1396   Police said the girl who died was identified ...   \n",
       "...                                                 ...   \n",
       "6957   That , and the fact he is only a few hours dr...   \n",
       "6958   IMOLA , Italy 1996-08-30 Practice times set o...   \n",
       "6959   NORTHAMPTON , England 1996-08-30 Leading scor...   \n",
       "6960         -DOCSTART- SOCCER - ENGLISH SOCCER RESULTS   \n",
       "6961   LONDON 1996-08-30 Results of English league m...   \n",
       "\n",
       "                                                      O  \\\n",
       "1392  [He, said, a, male, teenager, sleeping, upstai...   \n",
       "1393  [The, other, teenagers, also, confronted, the,...   \n",
       "1394  [\", At, least, two, of, them, were, sexually, ...   \n",
       "1395  [He, said, all, of, the, wounded, teenagers, w...   \n",
       "1396  [Police, said, the, girl, who, died, was, iden...   \n",
       "...                                                 ...   \n",
       "6957  [That, ,, and, the, fact, he, is, only, a, few...   \n",
       "6958  [,, 1996-08-30, Practice, times, set, on, Frid...   \n",
       "6959  [,, 1996-08-30, Leading, scores, after, the, t...   \n",
       "6960           [-DOCSTART-, SOCCER, -, SOCCER, RESULTS]   \n",
       "6961  [1996-08-30, Results, of, league, matches, on,...   \n",
       "\n",
       "                                                  B-PER  \\\n",
       "1392                                            [White]   \n",
       "1393                                                 []   \n",
       "1394                                            [Black]   \n",
       "1395                                                 []   \n",
       "1396                                         [Michelle]   \n",
       "...                                                 ...   \n",
       "6957                                                 []   \n",
       "6958  [Michael, Jean-Michel, Norifumi, Luca, Alex, S...   \n",
       "6959  [Robert, Pedro, Miguel, Costantino, Antoine, I...   \n",
       "6960                                                 []   \n",
       "6961                                                 []   \n",
       "\n",
       "                                                  B-ORG            B-MISC  \\\n",
       "1392                                                 []                []   \n",
       "1393                                                 []                []   \n",
       "1394                                                 []                []   \n",
       "1395                                                 []                []   \n",
       "1396                                                 []                []   \n",
       "...                                                 ...               ...   \n",
       "6957                                         [Aberdeen]           [GRAND]   \n",
       "6958  [Honda, Yamaha, Yamaha, Honda, Honda, Suzuki, ...  [Grand, BRITISH]   \n",
       "6959                                                 []         [British]   \n",
       "6960                                                 []         [ENGLISH]   \n",
       "6961              [Plymouth, Preston, Swansea, Lincoln]         [English]   \n",
       "\n",
       "                                                  B-LOC             I-LOC  \\\n",
       "1392                                                 []                []   \n",
       "1393                                                 []                []   \n",
       "1394                                                 []                []   \n",
       "1395                                                 []                []   \n",
       "1396                                                 []                []   \n",
       "...                                                 ...               ...   \n",
       "6957                                              [SAN]          [MARINO]   \n",
       "6958  [IMOLA, Italy, San, Australia, France, Japan, ...  [Marino, States]   \n",
       "6959  [NORTHAMPTON, England, Australia, Spain, Spain...                []   \n",
       "6960                                                 []                []   \n",
       "6961                                           [LONDON]                []   \n",
       "\n",
       "                                                  I-PER           I-MISC I-ORG  \n",
       "1392                                                 []               []    []  \n",
       "1393                                                 []               []    []  \n",
       "1394                                                 []               []    []  \n",
       "1395                                                 []               []    []  \n",
       "1396                                           [Harper]               []    []  \n",
       "...                                                 ...              ...   ...  \n",
       "6957                                                 []           [PRIX]    []  \n",
       "6958  [Doohan, Bayle, Abe, Cadalora, Criville, Russe...  [Prix, MASTERS]    []  \n",
       "6959  [Allenby, Linhart, Angel, Martin, Rocca, Lebou...        [Masters]    []  \n",
       "6960                                                 []               []    []  \n",
       "6961                                                 []               []    []  \n",
       "\n",
       "[5570 rows x 10 columns]"
      ]
     },
     "execution_count": 12,
     "metadata": {},
     "output_type": "execute_result"
    }
   ],
   "source": [
    "test"
   ]
  }
 ],
 "metadata": {
  "kernelspec": {
   "display_name": "Python 3.7.4 64-bit ('base': conda)",
   "language": "python",
   "name": "python37464bitbasecondabb28edfd9aff4a338f42adf28226b1f6"
  },
  "language_info": {
   "codemirror_mode": {
    "name": "ipython",
    "version": 3
   },
   "file_extension": ".py",
   "mimetype": "text/x-python",
   "name": "python",
   "nbconvert_exporter": "python",
   "pygments_lexer": "ipython3",
   "version": "3.7.4"
  }
 },
 "nbformat": 4,
 "nbformat_minor": 4
}
